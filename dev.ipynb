{
 "cells": [
  {
   "cell_type": "code",
   "execution_count": 1,
   "metadata": {},
   "outputs": [],
   "source": [
    "import xarray as xr\n",
    "import numpy as np\n",
    "import matplotlib.pyplot as plt"
   ]
  },
  {
   "cell_type": "code",
   "execution_count": 2,
   "metadata": {},
   "outputs": [],
   "source": [
    "from ipywidgets import interact, interactive, fixed, interact_manual\n",
    "import ipywidgets as widgets"
   ]
  },
  {
   "cell_type": "code",
   "execution_count": 3,
   "metadata": {},
   "outputs": [],
   "source": [
    "def f(x):\n",
    "    return x"
   ]
  },
  {
   "cell_type": "markdown",
   "metadata": {},
   "source": [
    "### Try a basic widget"
   ]
  },
  {
   "cell_type": "code",
   "execution_count": 4,
   "metadata": {},
   "outputs": [
    {
     "data": {
      "application/vnd.jupyter.widget-view+json": {
       "model_id": "59f7d08335da47e2bce5fe505ae1000d",
       "version_major": 2,
       "version_minor": 0
      },
      "text/plain": [
       "interactive(children=(IntSlider(value=0, description='x', max=1), Output()), _dom_classes=('widget-interact',)…"
      ]
     },
     "metadata": {},
     "output_type": "display_data"
    },
    {
     "data": {
      "text/plain": [
       "<function __main__.f(x)>"
      ]
     },
     "execution_count": 4,
     "metadata": {},
     "output_type": "execute_result"
    }
   ],
   "source": [
    "interact(f, x=0)"
   ]
  },
  {
   "cell_type": "markdown",
   "metadata": {},
   "source": [
    "### Now let's try a widget with an argument "
   ]
  },
  {
   "cell_type": "code",
   "execution_count": 5,
   "metadata": {},
   "outputs": [],
   "source": [
    "def interact_with(obj, x):\n",
    "    print(obj)\n",
    "    interact(f, x=x)"
   ]
  },
  {
   "cell_type": "code",
   "execution_count": 6,
   "metadata": {},
   "outputs": [
    {
     "name": "stdout",
     "output_type": "stream",
     "text": [
      "a\n"
     ]
    },
    {
     "data": {
      "application/vnd.jupyter.widget-view+json": {
       "model_id": "7418d006d97e41adad9db7c3e3caadf1",
       "version_major": 2,
       "version_minor": 0
      },
      "text/plain": [
       "interactive(children=(IntSlider(value=10, description='x', max=30, min=-10), Output()), _dom_classes=('widget-…"
      ]
     },
     "metadata": {},
     "output_type": "display_data"
    }
   ],
   "source": [
    "interact_with('a', x=10)"
   ]
  },
  {
   "cell_type": "markdown",
   "metadata": {},
   "source": [
    "### Now a widget where the called function actually uses the argument"
   ]
  },
  {
   "cell_type": "code",
   "execution_count": 7,
   "metadata": {},
   "outputs": [],
   "source": [
    "def g(dat, x):\n",
    "    print(f\"dat={dat} from inside g\")\n",
    "    return dat"
   ]
  },
  {
   "cell_type": "code",
   "execution_count": 8,
   "metadata": {},
   "outputs": [
    {
     "data": {
      "application/vnd.jupyter.widget-view+json": {
       "model_id": "9ef8a7581d154dcd9d7b057dd7a5969d",
       "version_major": 2,
       "version_minor": 0
      },
      "text/plain": [
       "interactive(children=(IntSlider(value=10, description='x', max=30, min=-10), Output()), _dom_classes=('widget-…"
      ]
     },
     "metadata": {},
     "output_type": "display_data"
    },
    {
     "data": {
      "text/plain": [
       "<function __main__.g(dat, x)>"
      ]
     },
     "execution_count": 8,
     "metadata": {},
     "output_type": "execute_result"
    }
   ],
   "source": [
    "interact(g, dat=fixed('a'), x=10)"
   ]
  },
  {
   "cell_type": "markdown",
   "metadata": {},
   "source": [
    "### Now with a DataArray as the argument"
   ]
  },
  {
   "cell_type": "code",
   "execution_count": 9,
   "metadata": {},
   "outputs": [
    {
     "data": {
      "text/plain": [
       "xarray.core.indexes.Indexes"
      ]
     },
     "execution_count": 9,
     "metadata": {},
     "output_type": "execute_result"
    }
   ],
   "source": [
    "ds = xr.tutorial.open_dataset('air_temperature')\n",
    "da = ds['air']\n",
    "ds\n",
    "type(ds.coords['lat'].indexes)"
   ]
  },
  {
   "cell_type": "code",
   "execution_count": 10,
   "metadata": {},
   "outputs": [],
   "source": [
    "all_times = list(str(val) for val in da.coords['time'].values)"
   ]
  },
  {
   "cell_type": "code",
   "execution_count": 11,
   "metadata": {},
   "outputs": [],
   "source": [
    "def sel_then_plot(da, time):\n",
    "    da_slice = da.sel(time=time)\n",
    "    return da_slice.plot()"
   ]
  },
  {
   "cell_type": "code",
   "execution_count": 12,
   "metadata": {},
   "outputs": [
    {
     "data": {
      "text/plain": [
       "<matplotlib.collections.QuadMesh at 0x7f65317d2f10>"
      ]
     },
     "execution_count": 12,
     "metadata": {},
     "output_type": "execute_result"
    },
    {
     "data": {
      "image/png": "[encoded data removed]",
      "text/plain": [
       "<Figure size 432x288 with 2 Axes>"
      ]
     },
     "metadata": {
      "needs_background": "light"
     },
     "output_type": "display_data"
    }
   ],
   "source": [
    "sel_then_plot(da, time='2014-12-31T18:00:00')"
   ]
  },
  {
   "cell_type": "code",
   "execution_count": 13,
   "metadata": {},
   "outputs": [
    {
     "data": {
      "application/vnd.jupyter.widget-view+json": {
       "model_id": "f6f78e6ee44c4dababa9dc54a7bcfd18",
       "version_major": 2,
       "version_minor": 0
      },
      "text/plain": [
       "interactive(children=(Dropdown(description='time', options=('2013-01-01T00:00:00.000000000', '2013-01-01T06:00…"
      ]
     },
     "metadata": {},
     "output_type": "display_data"
    },
    {
     "data": {
      "text/plain": [
       "<function __main__.sel_then_plot(da, time)>"
      ]
     },
     "execution_count": 13,
     "metadata": {},
     "output_type": "execute_result"
    }
   ],
   "source": [
    "interact(sel_then_plot, da=fixed(da), time=all_times)"
   ]
  },
  {
   "cell_type": "markdown",
   "metadata": {},
   "source": [
    "### Slider instead of dropdown"
   ]
  },
  {
   "cell_type": "code",
   "execution_count": 52,
   "metadata": {},
   "outputs": [],
   "source": [
    "def isel_then_plot(da, time):\n",
    "    da_slice = da.isel(time=time)\n",
    "    return da_slice.plot()"
   ]
  },
  {
   "cell_type": "code",
   "execution_count": 20,
   "metadata": {},
   "outputs": [
    {
     "data": {
      "application/vnd.jupyter.widget-view+json": {
       "model_id": "16c8f210526e475faf49baf75e8d7f99",
       "version_major": 2,
       "version_minor": 0
      },
      "text/plain": [
       "interactive(children=(IntSlider(value=10, description='time', max=30, min=-10), Output()), _dom_classes=('widg…"
      ]
     },
     "metadata": {},
     "output_type": "display_data"
    },
    {
     "data": {
      "text/plain": [
       "<function __main__.isel_then_plot(da, time)>"
      ]
     },
     "execution_count": 20,
     "metadata": {},
     "output_type": "execute_result"
    }
   ],
   "source": [
    "interact(isel_then_plot, da=fixed(da), time=10)"
   ]
  },
  {
   "cell_type": "markdown",
   "metadata": {},
   "source": [
    "### Set fixed arguments with closures instead"
   ]
  },
  {
   "cell_type": "code",
   "execution_count": 60,
   "metadata": {},
   "outputs": [
    {
     "data": {
      "application/vnd.jupyter.widget-view+json": {
       "model_id": "752c9f0149d54d04b85db353174541af",
       "version_major": 2,
       "version_minor": 0
      },
      "text/plain": [
       "interactive(children=(IntSlider(value=10, description='time', max=30, min=-10), Output()), _dom_classes=('widg…"
      ]
     },
     "metadata": {},
     "output_type": "display_data"
    }
   ],
   "source": [
    "def interactive_plot(da, time):\n",
    "    \n",
    "    @interact(time=time)\n",
    "    def _plot_with_da(time):\n",
    "        return isel_then_plot(da, time)\n",
    "  \n",
    "interactive_plot(da, time=10)"
   ]
  },
  {
   "cell_type": "code",
   "execution_count": 61,
   "metadata": {},
   "outputs": [
    {
     "data": {
      "application/vnd.jupyter.widget-view+json": {
       "model_id": "3c0e5edb732d408aa8864a4b3240389e",
       "version_major": 2,
       "version_minor": 0
      },
      "text/plain": [
       "interactive(children=(IntSlider(value=10, description='time', max=30, min=-10), Output()), _dom_classes=('widg…"
      ]
     },
     "metadata": {},
     "output_type": "display_data"
    }
   ],
   "source": [
    "def interactive_plot(da, time):\n",
    "    \n",
    "    def _plot_with_da(time):\n",
    "        return isel_then_plot(da, time)\n",
    "    \n",
    "    widgets = interact(_plot_with_da, time=time)\n",
    "\n",
    "interactive_plot(da, time=10)"
   ]
  },
  {
   "cell_type": "markdown",
   "metadata": {},
   "source": [
    "### Custom slider"
   ]
  },
  {
   "cell_type": "code",
   "execution_count": 27,
   "metadata": {},
   "outputs": [
    {
     "data": {
      "application/vnd.jupyter.widget-view+json": {
       "model_id": "82247eb16d5441dc9fa955994321453b",
       "version_major": 2,
       "version_minor": 0
      },
      "text/plain": [
       "interactive(children=(IntSlider(value=10, continuous_update=False, description='time', max=2920), Output()), _…"
      ]
     },
     "metadata": {},
     "output_type": "display_data"
    }
   ],
   "source": [
    "def interactive_plot(da, time):\n",
    "    \n",
    "    def _plot_with_da(time):\n",
    "        return isel_then_plot(da, time)\n",
    "    \n",
    "    widgets = interact(_plot_with_da, time=time, continuous_update=False)\n",
    "\n",
    "time_slider = widgets.IntSlider(value=10, min=0, max=da.sizes['time'], step=1, continuous_update=False)\n",
    "interactive_plot(da, time=time_slider)"
   ]
  },
  {
   "cell_type": "markdown",
   "metadata": {},
   "source": [
    "### Multiple widgets"
   ]
  },
  {
   "cell_type": "code",
   "execution_count": 23,
   "metadata": {},
   "outputs": [],
   "source": [
    "import pandas as pd"
   ]
  },
  {
   "cell_type": "code",
   "execution_count": 38,
   "metadata": {},
   "outputs": [
    {
     "data": {
      "text/html": [
       "<pre>&lt;xarray.DataArray &#x27;air&#x27; (scenario: 2, time: 6, lat: 25, lon: 53)&gt;\n",
       "array([[[[241.2    , 242.5    , 243.5    , ..., 232.79999, 235.5    ,\n",
       "          238.59999],\n",
       "         [243.79999, 244.5    , 244.7    , ..., 232.79999, 235.29999,\n",
       "          239.29999],\n",
       "         [250.     , 249.79999, 248.89   , ..., 233.2    , 236.39   ,\n",
       "          241.7    ],\n",
       "         ...,\n",
       "         [296.6    , 296.19998, 296.4    , ..., 295.4    , 295.1    ,\n",
       "          294.69998],\n",
       "         [295.9    , 296.19998, 296.79   , ..., 295.9    , 295.9    ,\n",
       "          295.19998],\n",
       "         [296.29   , 296.79   , 297.1    , ..., 296.9    , 296.79   ,\n",
       "          296.6    ]],\n",
       "\n",
       "        [[241.79999, 240.7    , 239.5    , ..., 231.     , 233.39   ,\n",
       "          235.89   ],\n",
       "         [245.59999, 244.     , 242.39   , ..., 230.5    , 232.7    ,\n",
       "          235.5    ],\n",
       "         [256.3    , 254.5    , 252.5    , ..., 227.5    , 230.59999,\n",
       "          235.5    ],\n",
       "         ...,\n",
       "         [295.     , 294.1    , 293.6    , ..., 296.19998, 295.9    ,\n",
       "          295.29   ],\n",
       "         [295.69998, 295.5    , 295.     , ..., 295.69998, 295.19998,\n",
       "          294.9    ],\n",
       "         [296.1    , 296.1    , 296.19998, ..., 295.6    , 295.19998,\n",
       "          295.19998]],\n",
       "\n",
       "        [[260.4    , 260.1    , 260.19998, ..., 250.29999, 250.79999,\n",
       "          251.7    ],\n",
       "         [260.9    , 260.29   , 260.     , ..., 248.2    , 249.29999,\n",
       "          251.39   ],\n",
       "         [264.6    , 263.4    , 262.29   , ..., 248.79999, 251.2    ,\n",
       "          254.7    ],\n",
       "         ...,\n",
       "         [297.6    , 297.5    , 297.4    , ..., 296.6    , 296.4    ,\n",
       "          295.6    ],\n",
       "         [298.19998, 298.5    , 298.4    , ..., 296.9    , 296.69998,\n",
       "          296.1    ],\n",
       "         [298.29   , 298.69998, 298.6    , ..., 297.4    , 297.4    ,\n",
       "          297.29   ]],\n",
       "\n",
       "        [[276.     , 275.5    , 275.1    , ..., 268.19998, 269.79   ,\n",
       "          271.5    ],\n",
       "         [276.5    , 276.4    , 276.19998, ..., 267.79   , 270.4    ,\n",
       "          273.29   ],\n",
       "         [280.     , 280.19998, 280.19998, ..., 268.6    , 271.4    ,\n",
       "          274.29   ],\n",
       "         ...,\n",
       "         [297.9    , 296.9    , 296.4    , ..., 298.29   , 297.4    ,\n",
       "          296.79   ],\n",
       "         [298.19998, 297.69998, 297.19998, ..., 298.1    , 297.79   ,\n",
       "          297.6    ],\n",
       "         [299.     , 298.69998, 298.19998, ..., 298.5    , 298.5    ,\n",
       "          298.4    ]],\n",
       "\n",
       "        [[271.5    , 271.4    , 271.29   , ..., 255.2    , 256.5    ,\n",
       "          258.69998],\n",
       "         [275.4    , 275.     , 274.4    , ..., 254.09999, 256.69998,\n",
       "          260.69998],\n",
       "         [277.79   , 277.69998, 277.4    , ..., 260.6    , 263.79   ,\n",
       "          268.     ],\n",
       "         ...,\n",
       "         [298.79   , 298.69998, 298.69998, ..., 299.19998, 298.9    ,\n",
       "          298.6    ],\n",
       "         [299.5    , 299.29   , 299.     , ..., 299.9    , 299.69998,\n",
       "          299.5    ],\n",
       "         [299.6    , 299.5    , 299.19998, ..., 299.79   , 300.19998,\n",
       "          300.4    ]],\n",
       "\n",
       "        [[260.29   , 258.79   , 257.1    , ..., 240.5    , 242.59999,\n",
       "          244.79999],\n",
       "         [269.1    , 268.19998, 266.4    , ..., 236.     , 237.7    ,\n",
       "          240.79999],\n",
       "         [270.9    , 269.79   , 268.5    , ..., 231.5    , 234.5    ,\n",
       "          240.2    ],\n",
       "         ...,\n",
       "         [297.5    , 296.6    , 296.5    , ..., 299.     , 298.     ,\n",
       "          297.69998],\n",
       "         [298.19998, 297.79   , 297.4    , ..., 299.19998, 299.     ,\n",
       "          298.69998],\n",
       "         [298.29   , 298.1    , 298.1    , ..., 299.69998, 299.5    ,\n",
       "          299.6    ]]],\n",
       "\n",
       "\n",
       "       [[[281.2    , 282.5    , 283.5    , ..., 272.8    , 275.5    ,\n",
       "          278.59998],\n",
       "         [283.8    , 284.5    , 284.7    , ..., 272.8    , 275.3    ,\n",
       "          279.3    ],\n",
       "         [290.     , 289.8    , 288.89   , ..., 273.2    , 276.39   ,\n",
       "          281.7    ],\n",
       "         ...,\n",
       "         [336.6    , 336.19998, 336.4    , ..., 335.4    , 335.1    ,\n",
       "          334.69998],\n",
       "         [335.9    , 336.19998, 336.79   , ..., 335.9    , 335.9    ,\n",
       "          335.19998],\n",
       "         [336.29   , 336.79   , 337.1    , ..., 336.9    , 336.79   ,\n",
       "          336.6    ]],\n",
       "\n",
       "        [[281.8    , 280.7    , 279.5    , ..., 271.     , 273.39   ,\n",
       "          275.89   ],\n",
       "         [285.59998, 284.     , 282.39   , ..., 270.5    , 272.7    ,\n",
       "          275.5    ],\n",
       "         [296.3    , 294.5    , 292.5    , ..., 267.5    , 270.59998,\n",
       "          275.5    ],\n",
       "         ...,\n",
       "         [335.     , 334.1    , 333.6    , ..., 336.19998, 335.9    ,\n",
       "          335.29   ],\n",
       "         [335.69998, 335.5    , 335.     , ..., 335.69998, 335.19998,\n",
       "          334.9    ],\n",
       "         [336.1    , 336.1    , 336.19998, ..., 335.6    , 335.19998,\n",
       "          335.19998]],\n",
       "\n",
       "        [[300.4    , 300.1    , 300.19998, ..., 290.3    , 290.8    ,\n",
       "          291.7    ],\n",
       "         [300.9    , 300.29   , 300.     , ..., 288.2    , 289.3    ,\n",
       "          291.39   ],\n",
       "         [304.6    , 303.4    , 302.29   , ..., 288.8    , 291.2    ,\n",
       "          294.7    ],\n",
       "         ...,\n",
       "         [337.6    , 337.5    , 337.4    , ..., 336.6    , 336.4    ,\n",
       "          335.6    ],\n",
       "         [338.19998, 338.5    , 338.4    , ..., 336.9    , 336.69998,\n",
       "          336.1    ],\n",
       "         [338.29   , 338.69998, 338.6    , ..., 337.4    , 337.4    ,\n",
       "          337.29   ]],\n",
       "\n",
       "        [[316.     , 315.5    , 315.1    , ..., 308.19998, 309.79   ,\n",
       "          311.5    ],\n",
       "         [316.5    , 316.4    , 316.19998, ..., 307.79   , 310.4    ,\n",
       "          313.29   ],\n",
       "         [320.     , 320.19998, 320.19998, ..., 308.6    , 311.4    ,\n",
       "          314.29   ],\n",
       "         ...,\n",
       "         [337.9    , 336.9    , 336.4    , ..., 338.29   , 337.4    ,\n",
       "          336.79   ],\n",
       "         [338.19998, 337.69998, 337.19998, ..., 338.1    , 337.79   ,\n",
       "          337.6    ],\n",
       "         [339.     , 338.69998, 338.19998, ..., 338.5    , 338.5    ,\n",
       "          338.4    ]],\n",
       "\n",
       "        [[311.5    , 311.4    , 311.29   , ..., 295.2    , 296.5    ,\n",
       "          298.69998],\n",
       "         [315.4    , 315.     , 314.4    , ..., 294.09998, 296.69998,\n",
       "          300.69998],\n",
       "         [317.79   , 317.69998, 317.4    , ..., 300.6    , 303.79   ,\n",
       "          308.     ],\n",
       "         ...,\n",
       "         [338.79   , 338.69998, 338.69998, ..., 339.19998, 338.9    ,\n",
       "          338.6    ],\n",
       "         [339.5    , 339.29   , 339.     , ..., 339.9    , 339.69998,\n",
       "          339.5    ],\n",
       "         [339.6    , 339.5    , 339.19998, ..., 339.79   , 340.19998,\n",
       "          340.4    ]],\n",
       "\n",
       "        [[300.29   , 298.79   , 297.1    , ..., 280.5    , 282.59998,\n",
       "          284.8    ],\n",
       "         [309.1    , 308.19998, 306.4    , ..., 276.     , 277.7    ,\n",
       "          280.8    ],\n",
       "         [310.9    , 309.79   , 308.5    , ..., 271.5    , 274.5    ,\n",
       "          280.2    ],\n",
       "         ...,\n",
       "         [337.5    , 336.6    , 336.5    , ..., 339.     , 338.     ,\n",
       "          337.69998],\n",
       "         [338.19998, 337.79   , 337.4    , ..., 339.19998, 339.     ,\n",
       "          338.69998],\n",
       "         [338.29   , 338.1    , 338.1    , ..., 339.69998, 339.5    ,\n",
       "          339.6    ]]]], dtype=float32)\n",
       "Coordinates:\n",
       "  * lat       (lat) float32 75.0 72.5 70.0 67.5 65.0 ... 22.5 20.0 17.5 15.0\n",
       "  * lon       (lon) float32 200.0 202.5 205.0 207.5 ... 322.5 325.0 327.5 330.0\n",
       "  * time      (time) datetime64[ns] 2013-01-01 ... 2013-11-09T12:00:00\n",
       "  * scenario  (scenario) object &#x27;normal&#x27; &#x27;hot&#x27;\n",
       "Attributes:\n",
       "    long_name:     4xDaily Air temperature at sigma level 995\n",
       "    units:         degK\n",
       "    precision:     2\n",
       "    GRIB_id:       11\n",
       "    GRIB_name:     TMP\n",
       "    var_desc:      Air temperature\n",
       "    dataset:       NMC Reanalysis\n",
       "    level_desc:    Surface\n",
       "    statistic:     Individual Obs\n",
       "    parent_stat:   Other\n",
       "    actual_range:  [185.16 322.1 ]\n",
       "    time:          2013-01-01T00:00:00.000000000</pre>"
      ],
      "text/plain": [
       "<xarray.DataArray 'air' (scenario: 2, time: 6, lat: 25, lon: 53)>\n",
       "array([[[[241.2    , 242.5    , 243.5    , ..., 232.79999, 235.5    ,\n",
       "          238.59999],\n",
       "         [243.79999, 244.5    , 244.7    , ..., 232.79999, 235.29999,\n",
       "          239.29999],\n",
       "         [250.     , 249.79999, 248.89   , ..., 233.2    , 236.39   ,\n",
       "          241.7    ],\n",
       "         ...,\n",
       "         [296.6    , 296.19998, 296.4    , ..., 295.4    , 295.1    ,\n",
       "          294.69998],\n",
       "         [295.9    , 296.19998, 296.79   , ..., 295.9    , 295.9    ,\n",
       "          295.19998],\n",
       "         [296.29   , 296.79   , 297.1    , ..., 296.9    , 296.79   ,\n",
       "          296.6    ]],\n",
       "\n",
       "        [[241.79999, 240.7    , 239.5    , ..., 231.     , 233.39   ,\n",
       "          235.89   ],\n",
       "         [245.59999, 244.     , 242.39   , ..., 230.5    , 232.7    ,\n",
       "          235.5    ],\n",
       "         [256.3    , 254.5    , 252.5    , ..., 227.5    , 230.59999,\n",
       "          235.5    ],\n",
       "         ...,\n",
       "         [295.     , 294.1    , 293.6    , ..., 296.19998, 295.9    ,\n",
       "          295.29   ],\n",
       "         [295.69998, 295.5    , 295.     , ..., 295.69998, 295.19998,\n",
       "          294.9    ],\n",
       "         [296.1    , 296.1    , 296.19998, ..., 295.6    , 295.19998,\n",
       "          295.19998]],\n",
       "\n",
       "        [[260.4    , 260.1    , 260.19998, ..., 250.29999, 250.79999,\n",
       "          251.7    ],\n",
       "         [260.9    , 260.29   , 260.     , ..., 248.2    , 249.29999,\n",
       "          251.39   ],\n",
       "         [264.6    , 263.4    , 262.29   , ..., 248.79999, 251.2    ,\n",
       "          254.7    ],\n",
       "         ...,\n",
       "         [297.6    , 297.5    , 297.4    , ..., 296.6    , 296.4    ,\n",
       "          295.6    ],\n",
       "         [298.19998, 298.5    , 298.4    , ..., 296.9    , 296.69998,\n",
       "          296.1    ],\n",
       "         [298.29   , 298.69998, 298.6    , ..., 297.4    , 297.4    ,\n",
       "          297.29   ]],\n",
       "\n",
       "        [[276.     , 275.5    , 275.1    , ..., 268.19998, 269.79   ,\n",
       "          271.5    ],\n",
       "         [276.5    , 276.4    , 276.19998, ..., 267.79   , 270.4    ,\n",
       "          273.29   ],\n",
       "         [280.     , 280.19998, 280.19998, ..., 268.6    , 271.4    ,\n",
       "          274.29   ],\n",
       "         ...,\n",
       "         [297.9    , 296.9    , 296.4    , ..., 298.29   , 297.4    ,\n",
       "          296.79   ],\n",
       "         [298.19998, 297.69998, 297.19998, ..., 298.1    , 297.79   ,\n",
       "          297.6    ],\n",
       "         [299.     , 298.69998, 298.19998, ..., 298.5    , 298.5    ,\n",
       "          298.4    ]],\n",
       "\n",
       "        [[271.5    , 271.4    , 271.29   , ..., 255.2    , 256.5    ,\n",
       "          258.69998],\n",
       "         [275.4    , 275.     , 274.4    , ..., 254.09999, 256.69998,\n",
       "          260.69998],\n",
       "         [277.79   , 277.69998, 277.4    , ..., 260.6    , 263.79   ,\n",
       "          268.     ],\n",
       "         ...,\n",
       "         [298.79   , 298.69998, 298.69998, ..., 299.19998, 298.9    ,\n",
       "          298.6    ],\n",
       "         [299.5    , 299.29   , 299.     , ..., 299.9    , 299.69998,\n",
       "          299.5    ],\n",
       "         [299.6    , 299.5    , 299.19998, ..., 299.79   , 300.19998,\n",
       "          300.4    ]],\n",
       "\n",
       "        [[260.29   , 258.79   , 257.1    , ..., 240.5    , 242.59999,\n",
       "          244.79999],\n",
       "         [269.1    , 268.19998, 266.4    , ..., 236.     , 237.7    ,\n",
       "          240.79999],\n",
       "         [270.9    , 269.79   , 268.5    , ..., 231.5    , 234.5    ,\n",
       "          240.2    ],\n",
       "         ...,\n",
       "         [297.5    , 296.6    , 296.5    , ..., 299.     , 298.     ,\n",
       "          297.69998],\n",
       "         [298.19998, 297.79   , 297.4    , ..., 299.19998, 299.     ,\n",
       "          298.69998],\n",
       "         [298.29   , 298.1    , 298.1    , ..., 299.69998, 299.5    ,\n",
       "          299.6    ]]],\n",
       "\n",
       "\n",
       "       [[[281.2    , 282.5    , 283.5    , ..., 272.8    , 275.5    ,\n",
       "          278.59998],\n",
       "         [283.8    , 284.5    , 284.7    , ..., 272.8    , 275.3    ,\n",
       "          279.3    ],\n",
       "         [290.     , 289.8    , 288.89   , ..., 273.2    , 276.39   ,\n",
       "          281.7    ],\n",
       "         ...,\n",
       "         [336.6    , 336.19998, 336.4    , ..., 335.4    , 335.1    ,\n",
       "          334.69998],\n",
       "         [335.9    , 336.19998, 336.79   , ..., 335.9    , 335.9    ,\n",
       "          335.19998],\n",
       "         [336.29   , 336.79   , 337.1    , ..., 336.9    , 336.79   ,\n",
       "          336.6    ]],\n",
       "\n",
       "        [[281.8    , 280.7    , 279.5    , ..., 271.     , 273.39   ,\n",
       "          275.89   ],\n",
       "         [285.59998, 284.     , 282.39   , ..., 270.5    , 272.7    ,\n",
       "          275.5    ],\n",
       "         [296.3    , 294.5    , 292.5    , ..., 267.5    , 270.59998,\n",
       "          275.5    ],\n",
       "         ...,\n",
       "         [335.     , 334.1    , 333.6    , ..., 336.19998, 335.9    ,\n",
       "          335.29   ],\n",
       "         [335.69998, 335.5    , 335.     , ..., 335.69998, 335.19998,\n",
       "          334.9    ],\n",
       "         [336.1    , 336.1    , 336.19998, ..., 335.6    , 335.19998,\n",
       "          335.19998]],\n",
       "\n",
       "        [[300.4    , 300.1    , 300.19998, ..., 290.3    , 290.8    ,\n",
       "          291.7    ],\n",
       "         [300.9    , 300.29   , 300.     , ..., 288.2    , 289.3    ,\n",
       "          291.39   ],\n",
       "         [304.6    , 303.4    , 302.29   , ..., 288.8    , 291.2    ,\n",
       "          294.7    ],\n",
       "         ...,\n",
       "         [337.6    , 337.5    , 337.4    , ..., 336.6    , 336.4    ,\n",
       "          335.6    ],\n",
       "         [338.19998, 338.5    , 338.4    , ..., 336.9    , 336.69998,\n",
       "          336.1    ],\n",
       "         [338.29   , 338.69998, 338.6    , ..., 337.4    , 337.4    ,\n",
       "          337.29   ]],\n",
       "\n",
       "        [[316.     , 315.5    , 315.1    , ..., 308.19998, 309.79   ,\n",
       "          311.5    ],\n",
       "         [316.5    , 316.4    , 316.19998, ..., 307.79   , 310.4    ,\n",
       "          313.29   ],\n",
       "         [320.     , 320.19998, 320.19998, ..., 308.6    , 311.4    ,\n",
       "          314.29   ],\n",
       "         ...,\n",
       "         [337.9    , 336.9    , 336.4    , ..., 338.29   , 337.4    ,\n",
       "          336.79   ],\n",
       "         [338.19998, 337.69998, 337.19998, ..., 338.1    , 337.79   ,\n",
       "          337.6    ],\n",
       "         [339.     , 338.69998, 338.19998, ..., 338.5    , 338.5    ,\n",
       "          338.4    ]],\n",
       "\n",
       "        [[311.5    , 311.4    , 311.29   , ..., 295.2    , 296.5    ,\n",
       "          298.69998],\n",
       "         [315.4    , 315.     , 314.4    , ..., 294.09998, 296.69998,\n",
       "          300.69998],\n",
       "         [317.79   , 317.69998, 317.4    , ..., 300.6    , 303.79   ,\n",
       "          308.     ],\n",
       "         ...,\n",
       "         [338.79   , 338.69998, 338.69998, ..., 339.19998, 338.9    ,\n",
       "          338.6    ],\n",
       "         [339.5    , 339.29   , 339.     , ..., 339.9    , 339.69998,\n",
       "          339.5    ],\n",
       "         [339.6    , 339.5    , 339.19998, ..., 339.79   , 340.19998,\n",
       "          340.4    ]],\n",
       "\n",
       "        [[300.29   , 298.79   , 297.1    , ..., 280.5    , 282.59998,\n",
       "          284.8    ],\n",
       "         [309.1    , 308.19998, 306.4    , ..., 276.     , 277.7    ,\n",
       "          280.8    ],\n",
       "         [310.9    , 309.79   , 308.5    , ..., 271.5    , 274.5    ,\n",
       "          280.2    ],\n",
       "         ...,\n",
       "         [337.5    , 336.6    , 336.5    , ..., 339.     , 338.     ,\n",
       "          337.69998],\n",
       "         [338.19998, 337.79   , 337.4    , ..., 339.19998, 339.     ,\n",
       "          338.69998],\n",
       "         [338.29   , 338.1    , 338.1    , ..., 339.69998, 339.5    ,\n",
       "          339.6    ]]]], dtype=float32)\n",
       "Coordinates:\n",
       "  * lat       (lat) float32 75.0 72.5 70.0 67.5 65.0 ... 22.5 20.0 17.5 15.0\n",
       "  * lon       (lon) float32 200.0 202.5 205.0 207.5 ... 322.5 325.0 327.5 330.0\n",
       "  * time      (time) datetime64[ns] 2013-01-01 ... 2013-11-09T12:00:00\n",
       "  * scenario  (scenario) object 'normal' 'hot'\n",
       "Attributes:\n",
       "    long_name:     4xDaily Air temperature at sigma level 995\n",
       "    units:         degK\n",
       "    precision:     2\n",
       "    GRIB_id:       11\n",
       "    GRIB_name:     TMP\n",
       "    var_desc:      Air temperature\n",
       "    dataset:       NMC Reanalysis\n",
       "    level_desc:    Surface\n",
       "    statistic:     Individual Obs\n",
       "    parent_stat:   Other\n",
       "    actual_range:  [185.16 322.1 ]\n",
       "    time:          2013-01-01T00:00:00.000000000"
      ]
     },
     "execution_count": 38,
     "metadata": {},
     "output_type": "execute_result"
    }
   ],
   "source": [
    "# Make some example 4D data\n",
    "\n",
    "t = da.isel(time=slice(0, 365 * 4, 250))\n",
    "\n",
    "t4d = xr.concat([t, t + 40], pd.Index(['normal', 'hot'], name='scenario'))\n",
    "\n",
    "# This is a 4d array\n",
    "t4d.coords\n",
    "t4d"
   ]
  },
  {
   "cell_type": "code",
   "execution_count": 46,
   "metadata": {},
   "outputs": [],
   "source": [
    "def sel_then_plot(da, **indexer_kwargs):\n",
    "    da_slice = da.sel(**indexer_kwargs)\n",
    "    return da_slice.plot()"
   ]
  },
  {
   "cell_type": "code",
   "execution_count": 49,
   "metadata": {},
   "outputs": [
    {
     "data": {
      "application/vnd.jupyter.widget-view+json": {
       "model_id": "f700f78d51834012a8ec8b90e7a3e427",
       "version_major": 2,
       "version_minor": 0
      },
      "text/plain": [
       "interactive(children=(Dropdown(description='time', options=('2013-01-01T00:00:00.000000000', '2013-01-01T06:00…"
      ]
     },
     "metadata": {},
     "output_type": "display_data"
    }
   ],
   "source": [
    "def interactive_plot(da, **indexer_kwargs):\n",
    "    \n",
    "    def _plot_with_da(**indexer_kwargs):\n",
    "        return sel_then_plot(da, **indexer_kwargs)\n",
    "    \n",
    "    w = interact(_plot_with_da, **indexer_kwargs) #, continuous_update=False)\n",
    "\n",
    "scenario_dropdown = widgets.Dropdown(options=list(t4d.coords['scenario'].values), value='normal',\n",
    "                                     description='Scenario:')\n",
    "interactive_plot(t4d, time=all_times, scenario=scenario_dropdown)"
   ]
  },
  {
   "cell_type": "markdown",
   "metadata": {},
   "source": [
    "### Play animation"
   ]
  },
  {
   "cell_type": "code",
   "execution_count": 59,
   "metadata": {},
   "outputs": [
    {
     "data": {
      "application/vnd.jupyter.widget-view+json": {
       "model_id": "959c32a86c674fbb8702db02c3798fdb",
       "version_major": 2,
       "version_minor": 0
      },
      "text/plain": [
       "interactive(children=(Play(value=10, description='Press play', interval=500, max=2920), Output()), _dom_classe…"
      ]
     },
     "metadata": {},
     "output_type": "display_data"
    }
   ],
   "source": [
    "def interactive_player(da, time):\n",
    "    \n",
    "    def _plot_with_da(time):\n",
    "        return isel_then_plot(da, time)\n",
    "    \n",
    "    \n",
    "    slider = widgets.IntSlider()\n",
    "    widgets.jslink((time_player, 'value'), (slider, 'value'))\n",
    "    widgets.HBox([time_player, slider])\n",
    "    w = interact(_plot_with_da, time=time)\n",
    "    \n",
    "\n",
    "time_player = widgets.Play(\n",
    "    value=10,\n",
    "    min=0,\n",
    "    max=da.sizes['time'],\n",
    "    step=1,\n",
    "    interval=500,\n",
    "    description=\"Press play\",\n",
    ")\n",
    "\n",
    "interactive_plot(da, time=time_player)"
   ]
  },
  {
   "cell_type": "markdown",
   "metadata": {},
   "source": [
    "### Execute something after interact function"
   ]
  },
  {
   "cell_type": "code",
   "execution_count": 14,
   "metadata": {},
   "outputs": [
    {
     "data": {
      "application/vnd.jupyter.widget-view+json": {
       "model_id": "f9e2157ede1745b59a63c65b48f85cba",
       "version_major": 2,
       "version_minor": 0
      },
      "text/plain": [
       "interactive(children=(Dropdown(description='time', options=('2013-01-01T00:00:00.000000000', '2013-01-01T06:00…"
      ]
     },
     "metadata": {},
     "output_type": "display_data"
    },
    {
     "name": "stdout",
     "output_type": "stream",
     "text": [
      "Further analysis which depends on interaction\n"
     ]
    }
   ],
   "source": [
    "interact(sel_then_plot, da=fixed(da), time=all_times)\n",
    "\n",
    "print(\"Further analysis which depends on interaction\")"
   ]
  },
  {
   "cell_type": "code",
   "execution_count": 15,
   "metadata": {},
   "outputs": [],
   "source": [
    "def sel_then_plot_and_set_time(da, time):\n",
    "    da_slice = da.sel(time=time, method='nearest')\n",
    "    da.attrs['time'] = time\n",
    "    return da_slice.plot()"
   ]
  },
  {
   "cell_type": "code",
   "execution_count": 16,
   "metadata": {},
   "outputs": [
    {
     "data": {
      "application/vnd.jupyter.widget-view+json": {
       "model_id": "6c1ee8dd221d478b9dd440d8defa44f2",
       "version_major": 2,
       "version_minor": 0
      },
      "text/plain": [
       "interactive(children=(Dropdown(description='time', options=('2013-01-01T00:00:00.000000000', '2013-01-01T06:00…"
      ]
     },
     "metadata": {},
     "output_type": "display_data"
    },
    {
     "name": "stdout",
     "output_type": "stream",
     "text": [
      "2013-01-01T00:00:00.000000000\n"
     ]
    }
   ],
   "source": [
    "da.attrs['time'] = 'default'\n",
    "\n",
    "interact(sel_then_plot_and_set_time, da=fixed(da), time=all_times)\n",
    "\n",
    "print(da.attrs['time'])"
   ]
  },
  {
   "cell_type": "markdown",
   "metadata": {},
   "source": [
    "It doesn't update, hmmmmm. Will need to try capturing the output then"
   ]
  },
  {
   "cell_type": "markdown",
   "metadata": {},
   "source": [
    "### Return interactive selection from function"
   ]
  },
  {
   "cell_type": "code",
   "execution_count": 82,
   "metadata": {},
   "outputs": [],
   "source": [
    "def interactive_isel(da, time):\n",
    "    \n",
    "    def _isel_with_da(time):\n",
    "        return da.isel(time=time)\n",
    "    \n",
    "    return interactive(_isel_with_da, time=time)"
   ]
  },
  {
   "cell_type": "code",
   "execution_count": 86,
   "metadata": {},
   "outputs": [
    {
     "data": {
      "application/vnd.jupyter.widget-view+json": {
       "model_id": "619d80e03da2405294ac69a305522f35",
       "version_major": 2,
       "version_minor": 0
      },
      "text/plain": [
       "interactive(children=(IntSlider(value=10, description='time', max=30, min=-10), Output()), _dom_classes=('widg…"
      ]
     },
     "metadata": {},
     "output_type": "display_data"
    },
    {
     "name": "stdout",
     "output_type": "stream",
     "text": [
      "<xarray.DataArray 'air' (lat: 25, lon: 53)>\n",
      "array([[242.59999, 243.     , 243.39   , ..., 239.89   , 242.2    , 244.7    ],\n",
      "       [244.39   , 245.59999, 246.39   , ..., 236.89   , 238.39   , 241.09999],\n",
      "       [252.7    , 253.59999, 253.7    , ..., 240.     , 242.09999, 245.39   ],\n",
      "       ...,\n",
      "       [296.29   , 295.6    , 295.4    , ..., 295.4    , 294.4    , 293.9    ],\n",
      "       [297.19998, 296.69998, 296.1    , ..., 295.79   , 295.6    , 295.29   ],\n",
      "       [297.69998, 297.29   , 297.19998, ..., 297.19998, 297.19998, 297.5    ]],\n",
      "      dtype=float32)\n",
      "Coordinates:\n",
      "  * lat      (lat) float32 75.0 72.5 70.0 67.5 65.0 ... 25.0 22.5 20.0 17.5 15.0\n",
      "  * lon      (lon) float32 200.0 202.5 205.0 207.5 ... 322.5 325.0 327.5 330.0\n",
      "    time     datetime64[ns] 2013-01-03T12:00:00\n",
      "Attributes:\n",
      "    long_name:     4xDaily Air temperature at sigma level 995\n",
      "    units:         degK\n",
      "    precision:     2\n",
      "    GRIB_id:       11\n",
      "    GRIB_name:     TMP\n",
      "    var_desc:      Air temperature\n",
      "    dataset:       NMC Reanalysis\n",
      "    level_desc:    Surface\n",
      "    statistic:     Individual Obs\n",
      "    parent_stat:   Other\n",
      "    actual_range:  [185.16 322.1 ]\n",
      "    time:          2013-01-01T00:00:00.000000000\n"
     ]
    },
    {
     "data": {
      "text/plain": [
       "<matplotlib.collections.QuadMesh at 0x7f652cc849d0>"
      ]
     },
     "execution_count": 86,
     "metadata": {},
     "output_type": "execute_result"
    },
    {
     "data": {
      "image/png": "[encoded data removed]",
      "text/plain": [
       "<Figure size 432x288 with 2 Axes>"
      ]
     },
     "metadata": {
      "needs_background": "light"
     },
     "output_type": "display_data"
    }
   ],
   "source": [
    "w = interactive_isel(da, time=10)\n",
    "display(w)\n",
    "print(w.result)\n",
    "w.result.plot()"
   ]
  },
  {
   "cell_type": "code",
   "execution_count": 98,
   "metadata": {},
   "outputs": [
    {
     "data": {
      "application/vnd.jupyter.widget-view+json": {
       "model_id": "f4e019e1bfef403b9c3ac7d7704dc6b0",
       "version_major": 2,
       "version_minor": 0
      },
      "text/plain": [
       "interactive(children=(IntSlider(value=3, description='a', max=5, min=1), IntSlider(value=8, description='b', m…"
      ]
     },
     "metadata": {},
     "output_type": "display_data"
    },
    {
     "name": "stdout",
     "output_type": "stream",
     "text": [
      "11\n"
     ]
    }
   ],
   "source": [
    "from ipywidgets import interactive\n",
    "\n",
    "# Define any function\n",
    "def f(a, b):\n",
    "    return a + b\n",
    "\n",
    "# Create sliders using interactive\n",
    "w = interactive(f, a=(1,5), b=(6,10))\n",
    "\n",
    "# You can also view this in a notebook without using display.\n",
    "display(w)\n",
    "print(w.result)"
   ]
  },
  {
   "cell_type": "code",
   "execution_count": 100,
   "metadata": {},
   "outputs": [
    {
     "data": {
      "text/plain": [
       "9"
      ]
     },
     "execution_count": 100,
     "metadata": {},
     "output_type": "execute_result"
    }
   ],
   "source": [
    "w.result"
   ]
  },
  {
   "cell_type": "code",
   "execution_count": null,
   "metadata": {},
   "outputs": [],
   "source": []
  },
  {
   "cell_type": "code",
   "execution_count": 93,
   "metadata": {},
   "outputs": [],
   "source": [
    "# This will fail with AttributeError: 'function' object has no attribute 'plot'\n",
    "#interact(sel, da=fixed(da), time=all_times).plot()"
   ]
  },
  {
   "cell_type": "code",
   "execution_count": null,
   "metadata": {},
   "outputs": [],
   "source": []
  }
 ],
 "metadata": {
  "kernelspec": {
   "display_name": "Python (py37)",
   "language": "python",
   "name": "py37"
  },
  "language_info": {
   "codemirror_mode": {
    "name": "ipython",
    "version": 3
   },
   "file_extension": ".py",
   "mimetype": "text/x-python",
   "name": "python",
   "nbconvert_exporter": "python",
   "pygments_lexer": "ipython3",
   "version": "3.7.4"
  }
 },
 "nbformat": 4,
 "nbformat_minor": 2
}
